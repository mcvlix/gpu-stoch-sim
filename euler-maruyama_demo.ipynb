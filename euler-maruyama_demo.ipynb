{
 "cells": [
  {
   "cell_type": "markdown",
   "id": "3eb0148f",
   "metadata": {},
   "source": [
    "# Demo of an Euler-Maruyama Solver in CUDA"
   ]
  },
  {
   "cell_type": "code",
   "execution_count": null,
   "id": "de83606f",
   "metadata": {},
   "outputs": [],
   "source": [
    "import torch, math"
   ]
  },
  {
   "cell_type": "markdown",
   "id": "43b246c1",
   "metadata": {},
   "source": [
    "#### We have the general form for an **Itô Stochastic Differential Equation (SDE)**:\n",
    "\n",
    "$dX_t=f(t,X_t)dt+g(t,X_t)dW_t$, where:\n",
    "\n",
    "$X_t \\in \\mathbb{R}^{d}$: multidimensional state vector\n",
    "\n",
    "$f(t,X_t)$: drift term, the deterministic evolution\n",
    "\n",
    "$g(t,X_t)$: diffusion term, the noise intensity\n",
    "\n",
    "$W_t$: the weiner process (Brownian motion), or a random path with $W_{t+\\Delta t} - W_t \\sim \\mathcal{N}(0, \\Delta t)$ \n",
    "\n",
    "#### With a **discrete time grid** $t_0,t_1,...,t_N$, we can approximate a solution rather than analytical integration.\n",
    "The **Euler-Maruyama** method, an extension of the Euler method for ODEs can be described as:\n",
    "\n",
    "$$X_{k+1} = X_k + f(t_k, X_k)\\Delta t + g(t_k, X_k)\\Delta W_k$$"
   ]
  },
  {
   "cell_type": "code",
   "execution_count": null,
   "id": "b22aad58",
   "metadata": {},
   "outputs": [],
   "source": [
    "def f(t, x, p): return p[\"mu\"] * x    # drift function\n",
    "def g(t, x, p): return p[\"sigma\"] * x # diffusion function\n",
    "\n",
    "def sdeint_euler(f, g, y0, t, params, generator=None):\n",
    "\n",
    "    y = y0.clone() # initial state\n",
    "    B, d = y.shape # batch size, state dimension\n",
    "    T = len(t)     # time domain\n",
    "    traj = torch.empty((T, B, d), device=y.device, dtype=y.dtype) # preallocate trajectory data\n",
    "    traj[0] = y    # initial state into tensor\n",
    "\n",
    "    for k in range(T - 1):\n",
    "        dt = t[k+1] - t[k]       # time increment\n",
    "        dW = torch.randn(B, d, device=y.device, generator=generator) * torch.sqrt(dt) # given dW = sqrt(dt) * N(0,1)\n",
    "        ftk = f(t[k], y, params) # drift increment (deterministic)\n",
    "        gtk = g(t[k], y, params) # diffusion increment (stochastic)\n",
    "        y = y + ftk*dt + gtk*dW  # Euler-Maruyama update\n",
    "        traj[k+1] = y\n",
    "    return traj\n"
   ]
  },
  {
   "cell_type": "code",
   "execution_count": 12,
   "id": "fdea2a57",
   "metadata": {},
   "outputs": [],
   "source": [
    "device = \"cuda\" if torch.cuda.is_available() else \"cpu\"\n",
    "B, d = 8192, 1                                      # batch size, state dimension\n",
    "t = torch.linspace(0, 1, 512, device=device)        # time domain\n",
    "y0 = torch.ones(B, d, device=device)                # initial state\n",
    "params = {\"mu\": 0.2, \"sigma\": 0.5}                  # SDE parameters\n",
    "gen = torch.Generator(device=device).manual_seed(0) # random seed"
   ]
  },
  {
   "cell_type": "code",
   "execution_count": 13,
   "id": "fa909343",
   "metadata": {},
   "outputs": [],
   "source": [
    "traj = sdeint_euler(f, g, y0, t, params, generator=gen) # solve SDE\n",
    "xT = traj[-1]                                           # extract final states\n",
    "mean_emp = xT.mean().item()                             #empirical mean\n",
    "var_emp = xT.var(unbiased=False).item()                  # empirical variance"
   ]
  },
  {
   "cell_type": "code",
   "execution_count": 14,
   "id": "50b05fe2",
   "metadata": {},
   "outputs": [
    {
     "name": "stdout",
     "output_type": "stream",
     "text": [
      "mean sim=1.2256, theory=1.2214\n",
      "var  sim=0.4342, theory=0.4237\n"
     ]
    }
   ],
   "source": [
    "mean_th = math.exp(params[\"mu\"] * 1)\n",
    "var_th = math.exp(2*params[\"mu\"]*1)*(math.exp(params[\"sigma\"]**2*1) - 1)\n",
    "print(f\"mean sim={mean_emp:.4f}, theory={mean_th:.4f}\")\n",
    "print(f\"var  sim={var_emp:.4f}, theory={var_th:.4f}\")"
   ]
  }
 ],
 "metadata": {
  "kernelspec": {
   "display_name": "Python 3",
   "language": "python",
   "name": "python3"
  },
  "language_info": {
   "codemirror_mode": {
    "name": "ipython",
    "version": 3
   },
   "file_extension": ".py",
   "mimetype": "text/x-python",
   "name": "python",
   "nbconvert_exporter": "python",
   "pygments_lexer": "ipython3",
   "version": "3.11.9"
  }
 },
 "nbformat": 4,
 "nbformat_minor": 5
}
